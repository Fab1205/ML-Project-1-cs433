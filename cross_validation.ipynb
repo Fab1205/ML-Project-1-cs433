{
 "cells": [
  {
   "cell_type": "code",
   "execution_count": 14,
   "metadata": {},
   "outputs": [],
   "source": [
    "import numpy as np\n",
    "from cross_validation import *\n",
    "import sys\n",
    "import os\n",
    "import csv\n",
    "import matplotlib.pyplot as plt\n",
    "\n",
    "sys.path.append(os.path.abspath(\"src/\"))\n",
    "sys.path.append(os.path.abspath(\"data/raw/\"))\n",
    "\n",
    "#from tools import stratified_split\n",
    "from data_loading import (\n",
    "    load_data,\n",
    "    load_features_dict,\n",
    ")\n",
    "from data_processing import preprocess_features\n",
    "from implementations import logistic_regression\n",
    "from models import sigmoid,compute_loss_logistic,reg_l2_logistic_regression\n",
    "from utils import calculate_accuracy,calculate_f1_score"
   ]
  },
  {
   "cell_type": "code",
   "execution_count": 15,
   "metadata": {},
   "outputs": [],
   "source": [
    "###### PATHS ######\n",
    "data_path = \"data/\"\n",
    "json_path = \"feature_dict.json\""
   ]
  },
  {
   "cell_type": "code",
   "execution_count": 16,
   "metadata": {},
   "outputs": [
    {
     "name": "stdout",
     "output_type": "stream",
     "text": [
      "Loading raw data...\n",
      "Data loaded.\n"
     ]
    },
    {
     "ename": "FileNotFoundError",
     "evalue": "[Errno 2] No such file or directory: 'feature_dict.json'",
     "output_type": "error",
     "traceback": [
      "\u001b[1;31m---------------------------------------------------------------------------\u001b[0m",
      "\u001b[1;31mFileNotFoundError\u001b[0m                         Traceback (most recent call last)",
      "Cell \u001b[1;32mIn[16], line 4\u001b[0m\n\u001b[0;32m      1\u001b[0m \u001b[38;5;66;03m###### LOAD DATA ######\u001b[39;00m\n\u001b[0;32m      2\u001b[0m x_train, x_test, y_train, train_ids, test_ids, feature_names, feature_dict \u001b[38;5;241m=\u001b[39m load_data(data_path)\n\u001b[1;32m----> 4\u001b[0m feature_dict_ \u001b[38;5;241m=\u001b[39m load_features_dict(json_path)\n\u001b[0;32m      6\u001b[0m x_train_processed, x_test_processed, feature_names_processed, feature_dict_processed \u001b[38;5;241m=\u001b[39m preprocess_features(\n\u001b[0;32m      7\u001b[0m     x_train, x_test, feature_names, feature_dict_\n\u001b[0;32m      8\u001b[0m )\n",
      "File \u001b[1;32mc:\\Users\\41774\\Documents_ordi\\GitHub\\ml-project-1-ml_fs\\src\\data_loading.py:53\u001b[0m, in \u001b[0;36mload_features_dict\u001b[1;34m(json_path)\u001b[0m\n\u001b[0;32m     43\u001b[0m \u001b[38;5;28;01mdef\u001b[39;00m \u001b[38;5;21mload_features_dict\u001b[39m(json_path: \u001b[38;5;28mstr\u001b[39m):\n\u001b[0;32m     44\u001b[0m \u001b[38;5;250m    \u001b[39m\u001b[38;5;124;03m\"\"\"\u001b[39;00m\n\u001b[0;32m     45\u001b[0m \u001b[38;5;124;03m    Load feature dictionary from a JSON file.\u001b[39;00m\n\u001b[0;32m     46\u001b[0m \n\u001b[1;32m   (...)\u001b[0m\n\u001b[0;32m     51\u001b[0m \u001b[38;5;124;03m        features_dict (dict): Dictionary containing feature metadata (type and encoding).\u001b[39;00m\n\u001b[0;32m     52\u001b[0m \u001b[38;5;124;03m    \"\"\"\u001b[39;00m\n\u001b[1;32m---> 53\u001b[0m     \u001b[38;5;28;01mwith\u001b[39;00m \u001b[38;5;28mopen\u001b[39m(json_path, \u001b[38;5;124m\"\u001b[39m\u001b[38;5;124mr\u001b[39m\u001b[38;5;124m\"\u001b[39m) \u001b[38;5;28;01mas\u001b[39;00m file:\n\u001b[0;32m     54\u001b[0m         \u001b[38;5;28;01mreturn\u001b[39;00m json\u001b[38;5;241m.\u001b[39mload(file)\n",
      "\u001b[1;31mFileNotFoundError\u001b[0m: [Errno 2] No such file or directory: 'feature_dict.json'"
     ]
    }
   ],
   "source": [
    "###### LOAD DATA ######\n",
    "x_train, x_test, y_train, train_ids, test_ids, feature_names, feature_dict = load_data(data_path)\n",
    "\n",
    "feature_dict_ = load_features_dict(json_path)\n",
    "\n",
    "x_train_processed, x_test_processed, feature_names_processed, feature_dict_processed = preprocess_features(\n",
    "    x_train, x_test, feature_names, feature_dict_\n",
    ")"
   ]
  },
  {
   "cell_type": "code",
   "execution_count": 6,
   "metadata": {},
   "outputs": [
    {
     "name": "stdout",
     "output_type": "stream",
     "text": [
      "\n",
      "Training with gamma=0.04\n",
      "sets faits\n",
      "logistic_regression faite\n",
      "sets faits\n",
      "logistic_regression faite\n",
      "sets faits\n",
      "logistic_regression faite\n",
      "New best model found! With training loss: 0.2310\n",
      "Threshold: 0.5, F1 Score: 0.1214, Accuracy: 91.22%\n",
      "\n",
      "Training with gamma=0.04181818181818182\n",
      "sets faits\n",
      "logistic_regression faite\n",
      "sets faits\n",
      "logistic_regression faite\n",
      "sets faits\n",
      "logistic_regression faite\n",
      "New best model found! With training loss: 0.2308\n",
      "Threshold: 0.5, F1 Score: 0.1246, Accuracy: 91.22%\n",
      "\n",
      "Training with gamma=0.04363636363636364\n",
      "sets faits\n",
      "logistic_regression faite\n",
      "sets faits\n",
      "logistic_regression faite\n",
      "sets faits\n",
      "logistic_regression faite\n",
      "New best model found! With training loss: 0.2306\n",
      "Threshold: 0.5, F1 Score: 0.1287, Accuracy: 91.24%\n",
      "\n",
      "Training with gamma=0.045454545454545456\n",
      "sets faits\n",
      "logistic_regression faite\n",
      "sets faits\n",
      "logistic_regression faite\n",
      "sets faits\n",
      "logistic_regression faite\n",
      "New best model found! With training loss: 0.2304\n",
      "Threshold: 0.5, F1 Score: 0.1333, Accuracy: 91.26%\n",
      "\n",
      "Training with gamma=0.04727272727272727\n",
      "sets faits\n",
      "logistic_regression faite\n",
      "sets faits\n",
      "logistic_regression faite\n",
      "sets faits\n",
      "logistic_regression faite\n",
      "New best model found! With training loss: 0.2302\n",
      "Threshold: 0.5, F1 Score: 0.1345, Accuracy: 91.25%\n",
      "\n",
      "Training with gamma=0.04909090909090909\n",
      "sets faits\n",
      "logistic_regression faite\n",
      "sets faits\n",
      "logistic_regression faite\n",
      "sets faits\n",
      "logistic_regression faite\n",
      "New best model found! With training loss: 0.2300\n",
      "Threshold: 0.5, F1 Score: 0.1363, Accuracy: 91.25%\n",
      "\n",
      "Training with gamma=0.05090909090909091\n",
      "sets faits\n",
      "logistic_regression faite\n",
      "sets faits\n",
      "logistic_regression faite\n",
      "sets faits\n",
      "logistic_regression faite\n",
      "New best model found! With training loss: 0.2298\n",
      "Threshold: 0.5, F1 Score: 0.1383, Accuracy: 91.25%\n",
      "\n",
      "Training with gamma=0.05272727272727273\n",
      "sets faits\n",
      "logistic_regression faite\n",
      "sets faits\n",
      "logistic_regression faite\n",
      "sets faits\n",
      "logistic_regression faite\n",
      "New best model found! With training loss: 0.2297\n",
      "Threshold: 0.5, F1 Score: 0.1396, Accuracy: 91.25%\n",
      "\n",
      "Training with gamma=0.05454545454545454\n",
      "sets faits\n",
      "logistic_regression faite\n",
      "sets faits\n",
      "logistic_regression faite\n",
      "sets faits\n",
      "logistic_regression faite\n",
      "New best model found! With training loss: 0.2295\n",
      "Threshold: 0.5, F1 Score: 0.1416, Accuracy: 91.26%\n",
      "\n",
      "Training with gamma=0.056363636363636366\n",
      "sets faits\n",
      "logistic_regression faite\n",
      "sets faits\n",
      "logistic_regression faite\n",
      "sets faits\n",
      "logistic_regression faite\n",
      "\n",
      "Training with gamma=0.05818181818181818\n",
      "sets faits\n",
      "logistic_regression faite\n",
      "sets faits\n",
      "logistic_regression faite\n",
      "sets faits\n",
      "logistic_regression faite\n",
      "\n",
      "Training with gamma=0.06\n",
      "sets faits\n",
      "logistic_regression faite\n",
      "sets faits\n",
      "logistic_regression faite\n",
      "sets faits\n",
      "logistic_regression faite\n",
      "\n",
      "Best hyperparameters: 0.05454545454545454\n",
      "Best loss: 0.2276\n"
     ]
    }
   ],
   "source": [
    "best_loss = 1e10\n",
    "best_params = None\n",
    "best_weights = None\n",
    "k_fold = 3\n",
    "all_mean_losses = []\n",
    "all_f1_score = []\n",
    "gammas = np.linspace(4e-2,6e-2,12)\n",
    "\n",
    "for gamma in gammas:\n",
    "\n",
    "    print(f\"\\nTraining with gamma={gamma}\")\n",
    "    #sets for cross validation\n",
    "    k_indices = build_k_indices(y_train,k_fold,seed=42)\n",
    "\n",
    "    # Initialize weights\n",
    "    initial_w = np.zeros(x_train_processed.shape[1])\n",
    "    Losses = []     #losses for different k \n",
    "    f1_scores = []\n",
    "    # Train the model and get all losses and weights\n",
    "    for k in range(k_fold):\n",
    "        x_train_cross,y_train_cross,x_test_cross,y_test_cross = sets_for_cross_validation(y_train,x_train_processed,k_indices,k)\n",
    "        print('sets faits')\n",
    "        w, loss = logistic_regression(y_train_cross, x_train_cross, initial_w, 500, gamma)\n",
    "        print('logistic_regression faite')\n",
    "        loss = compute_loss_logistic(y_test_cross,x_test_cross,w)\n",
    "\n",
    "        y_val_pred_prob = sigmoid(x_test_cross @ w)\n",
    "        y_val_pred = np.where(y_val_pred_prob >= 0.5, 1, 0)\n",
    "        # Calculate F1 score and accuracy\n",
    "        f1 = calculate_f1_score(y_test_cross, y_val_pred)\n",
    "        acc = calculate_accuracy(y_test_cross, y_val_pred)\n",
    "\n",
    "        f1_scores.append(f1)\n",
    "        Losses.append(loss)\n",
    "    \n",
    "    mean_loss = np.mean(Losses)\n",
    "    all_mean_losses.append(mean_loss)\n",
    "    f1_score_mean = np.mean(f1_scores)\n",
    "    all_f1_score.append(f1_score_mean)\n",
    "\n",
    "    # Update best model if this one is better\n",
    "    if mean_loss < best_loss:\n",
    "        best_loss = mean_loss\n",
    "        best_params = gamma\n",
    "        best_weights = w\n",
    "        print(f\"New best model found! With training loss: {loss:.4f}\")\n",
    "\n",
    "        y_val_pred_prob = sigmoid(x_test_cross @ w)\n",
    "        y_val_pred = np.where(y_val_pred_prob >= 0.5, 1, 0)\n",
    "\n",
    "        # Calculate F1 score and accuracy\n",
    "        f1 = calculate_f1_score(y_test_cross, y_val_pred)\n",
    "        acc = calculate_accuracy(y_test_cross, y_val_pred)\n",
    "\n",
    "        print(f\"Threshold: 0.5, F1 Score: {f1:.4f}, Accuracy: {acc * 100:.2f}%\")\n",
    "\n",
    "\n",
    "\n",
    "print(\"\\nBest hyperparameters:\", best_params)\n",
    "print(f\"Best loss: {best_loss:.4f}\")\n"
   ]
  },
  {
   "cell_type": "code",
   "execution_count": 9,
   "metadata": {},
   "outputs": [
    {
     "name": "stderr",
     "output_type": "stream",
     "text": [
      "C:\\Users\\41774\\AppData\\Local\\Temp\\ipykernel_14436\\2259490717.py:2: UserWarning: No artists with labels found to put in legend.  Note that artists whose label start with an underscore are ignored when legend() is called with no argument.\n",
      "  plt.legend()\n"
     ]
    },
    {
     "data": {
      "image/png": "[encoded data removed]",
      "text/plain": [
       "<Figure size 640x480 with 1 Axes>"
      ]
     },
     "metadata": {},
     "output_type": "display_data"
    },
    {
     "data": {
      "text/plain": [
       "<Figure size 640x480 with 0 Axes>"
      ]
     },
     "metadata": {},
     "output_type": "display_data"
    }
   ],
   "source": [
    "plt.plot(gammas,all_mean_losses)\n",
    "plt.legend()\n",
    "plt.xlabel('gamma')\n",
    "plt.ylabel('loss')\n",
    "plt.show()\n",
    "plt.savefig('cross_validation gamma')"
   ]
  },
  {
   "cell_type": "code",
   "execution_count": 10,
   "metadata": {},
   "outputs": [
    {
     "name": "stdout",
     "output_type": "stream",
     "text": [
      "Best hyperparameters: 0.05454545454545454\n"
     ]
    }
   ],
   "source": [
    "print('Best hyperparameters: 0.05454545454545454')"
   ]
  },
  {
   "cell_type": "code",
   "execution_count": 10,
   "metadata": {},
   "outputs": [
    {
     "name": "stdout",
     "output_type": "stream",
     "text": [
      "\n",
      "Training with threshold=0.17\n",
      "sets faits\n",
      "logistic_regression faite\n",
      "sets faits\n",
      "logistic_regression faite\n",
      "sets faits\n",
      "logistic_regression faite\n",
      "New best model found! With training loss: 0.2276\n",
      "Threshold: 0.17, F1 Score: 0.4073, Accuracy: 84.71%\n",
      "\n",
      "Training with threshold=0.18000000000000002\n",
      "sets faits\n",
      "logistic_regression faite\n",
      "sets faits\n",
      "logistic_regression faite\n",
      "sets faits\n",
      "logistic_regression faite\n",
      "New best model found! With training loss: 0.2276\n",
      "Threshold: 0.18000000000000002, F1 Score: 0.4082, Accuracy: 85.46%\n",
      "\n",
      "Training with threshold=0.19\n",
      "sets faits\n",
      "logistic_regression faite\n",
      "sets faits\n",
      "logistic_regression faite\n",
      "sets faits\n",
      "logistic_regression faite\n",
      "New best model found! With training loss: 0.2276\n",
      "Threshold: 0.19, F1 Score: 0.4090, Accuracy: 86.13%\n",
      "\n",
      "Training with threshold=0.2\n",
      "sets faits\n",
      "logistic_regression faite\n",
      "sets faits\n",
      "logistic_regression faite\n",
      "sets faits\n",
      "logistic_regression faite\n",
      "\n",
      "Best hyperparameters: 0.19\n",
      "Best loss: 10000000000.0000\n",
      "Best F1 score: 0.4090\n"
     ]
    }
   ],
   "source": [
    "best_loss = 1e10\n",
    "best_f1 = 0\n",
    "best_threshold = 0\n",
    "k_fold = 3\n",
    "all_mean_losses = []\n",
    "all_f1_score = []\n",
    "all_mean_acc = []\n",
    "thresholds = np.linspace(0.17,0.2,4)\n",
    "\n",
    "for threshold in thresholds:\n",
    "\n",
    "    print(f\"\\nTraining with threshold={threshold}\")\n",
    "    #sets for cross validation\n",
    "    k_indices = build_k_indices(y_train,k_fold,seed=42)\n",
    "\n",
    "    # Initialize weights\n",
    "    initial_w = np.zeros(x_train_processed.shape[1])\n",
    "    Losses = []     #losses for different k \n",
    "    f1_scores = []\n",
    "    accs=[]\n",
    "\n",
    "    # Train the model and get all losses and weights\n",
    "    for k in range(k_fold):\n",
    "        x_train_cross,y_train_cross,x_test_cross,y_test_cross = sets_for_cross_validation(y_train,x_train_processed,k_indices,k)\n",
    "        print('sets faits')\n",
    "        w, loss = logistic_regression(y_train_cross, x_train_cross, initial_w, 500, 0.05454545)\n",
    "        print('logistic_regression faite')\n",
    "        loss = compute_loss_logistic(y_test_cross,x_test_cross,w)\n",
    "\n",
    "        y_val_pred_prob = sigmoid(x_test_cross @ w)\n",
    "        y_val_pred = np.where(y_val_pred_prob >= threshold, 1, 0)\n",
    "\n",
    "        # Calculate F1 score and accuracy\n",
    "        f1 = calculate_f1_score(y_test_cross, y_val_pred)\n",
    "        acc = calculate_accuracy(y_test_cross, y_val_pred)\n",
    "\n",
    "        accs.append(acc)\n",
    "        f1_scores.append(f1)\n",
    "        Losses.append(loss)\n",
    "    \n",
    "    f1_score_mean = np.mean(f1_scores)\n",
    "    all_f1_score.append(f1_score_mean)\n",
    "    acc_mean = np.mean(accs)\n",
    "    all_mean_acc.append(acc_mean)\n",
    "    all_mean_losses.append(np.mean(Losses))\n",
    "        \n",
    "    # Update best model if this one is better\n",
    "    if f1_score_mean > best_f1:\n",
    "        best_f1 = f1_score_mean\n",
    "        best_threshold = threshold\n",
    "        print(f\"New best model found! With training loss: {np.mean(Losses):.4f}\")\n",
    "\n",
    "        \n",
    "        print(f\"Threshold: {threshold}, F1 Score: {f1_score_mean:.4f}, Accuracy: {acc_mean * 100:.2f}%\")\n",
    "\n",
    "\n",
    "\n",
    "print(\"\\nBest hyperparameters:\", best_threshold)\n",
    "print(f\"Best loss: {best_loss:.4f}\")\n",
    "print(f\"Best F1 score: {best_f1:.4f}\")"
   ]
  },
  {
   "cell_type": "code",
   "execution_count": 11,
   "metadata": {},
   "outputs": [
    {
     "name": "stderr",
     "output_type": "stream",
     "text": [
      "C:\\Users\\41774\\AppData\\Local\\Temp\\ipykernel_12824\\2167798232.py:2: UserWarning: No artists with labels found to put in legend.  Note that artists whose label start with an underscore are ignored when legend() is called with no argument.\n",
      "  plt.legend()\n"
     ]
    },
    {
     "data": {
      "image/png": "[encoded data removed]",
      "text/plain": [
       "<Figure size 640x480 with 1 Axes>"
      ]
     },
     "metadata": {},
     "output_type": "display_data"
    },
    {
     "name": "stdout",
     "output_type": "stream",
     "text": [
      "[0.4073009737348703, 0.4081872509999942, 0.4089929263292467, 0.4085933293018511] [0.17 0.18 0.19 0.2 ]\n"
     ]
    }
   ],
   "source": [
    "plt.plot(thresholds,all_f1_score)\n",
    "plt.legend()\n",
    "plt.xlabel('threshold')\n",
    "plt.ylabel('F1 score')\n",
    "plt.show()\n",
    "#plt.savefig('cross_validation threshold')\n",
    "\n",
    "print(all_f1_score,thresholds)"
   ]
  },
  {
   "cell_type": "code",
   "execution_count": 14,
   "metadata": {},
   "outputs": [
    {
     "name": "stdout",
     "output_type": "stream",
     "text": [
      "f1 and thresholds : [0.40059376293743726, 0.4073009737348703,0.4081872509999942, 0.4089929263292467, 0.4085933293018511, 0.4066567872556662, 0.3948516571865995, 0.37766215897774624, 0.3545449657700823] [0.15 0.17 0.18 0.21 0.24 0.27 0.3 ]\n"
     ]
    },
    {
     "name": "stderr",
     "output_type": "stream",
     "text": [
      "C:\\Users\\41774\\AppData\\Local\\Temp\\ipykernel_12824\\2545492060.py:5: UserWarning: No artists with labels found to put in legend.  Note that artists whose label start with an underscore are ignored when legend() is called with no argument.\n",
      "  plt.legend()\n"
     ]
    },
    {
     "data": {
      "image/png": "[encoded data removed]",
      "text/plain": [
       "<Figure size 640x480 with 1 Axes>"
      ]
     },
     "metadata": {},
     "output_type": "display_data"
    },
    {
     "data": {
      "text/plain": [
       "<Figure size 640x480 with 0 Axes>"
      ]
     },
     "metadata": {},
     "output_type": "display_data"
    }
   ],
   "source": [
    "print('f1 and thresholds : [0.40059376293743726, 0.4073009737348703,0.4081872509999942, 0.4089929263292467, 0.4085933293018511, 0.4066567872556662, 0.3948516571865995, 0.37766215897774624, 0.3545449657700823] [0.15 0.17 0.18 0.21 0.24 0.27 0.3 ]')\n",
    "thresholds = [0.15, 0.17, 0.18,0.19,0.20, 0.21, 0.24, 0.27, 0.3]\n",
    "all_f1 = [0.40059376293743726, 0.4073009737348703,0.4081872509999942, 0.4089929263292467, 0.4085933293018511, 0.4066567872556662, 0.3948516571865995, 0.37766215897774624, 0.3545449657700823]\n",
    "plt.plot(thresholds,all_f1)\n",
    "plt.legend()\n",
    "plt.xlabel('threshold')\n",
    "plt.ylabel('F1 score')\n",
    "plt.show()\n",
    "plt.savefig('cross_validation threshold')"
   ]
  },
  {
   "cell_type": "code",
   "execution_count": 21,
   "metadata": {},
   "outputs": [
    {
     "name": "stdout",
     "output_type": "stream",
     "text": [
      "\n",
      "Training with lambda=0.0\n"
     ]
    },
    {
     "ename": "NameError",
     "evalue": "name 'x_train_processed' is not defined",
     "output_type": "error",
     "traceback": [
      "\u001b[1;31m---------------------------------------------------------------------------\u001b[0m",
      "\u001b[1;31mNameError\u001b[0m                                 Traceback (most recent call last)",
      "Cell \u001b[1;32mIn[21], line 17\u001b[0m\n\u001b[0;32m     14\u001b[0m k_indices \u001b[38;5;241m=\u001b[39m build_k_indices(y_train,k_fold,seed\u001b[38;5;241m=\u001b[39m\u001b[38;5;241m42\u001b[39m)\n\u001b[0;32m     16\u001b[0m \u001b[38;5;66;03m# Initialize weights\u001b[39;00m\n\u001b[1;32m---> 17\u001b[0m initial_w \u001b[38;5;241m=\u001b[39m np\u001b[38;5;241m.\u001b[39mzeros(x_train_processed\u001b[38;5;241m.\u001b[39mshape[\u001b[38;5;241m1\u001b[39m])\n\u001b[0;32m     18\u001b[0m Losses \u001b[38;5;241m=\u001b[39m []     \u001b[38;5;66;03m#losses for different k \u001b[39;00m\n\u001b[0;32m     19\u001b[0m f1_scores \u001b[38;5;241m=\u001b[39m []\n",
      "\u001b[1;31mNameError\u001b[0m: name 'x_train_processed' is not defined"
     ]
    }
   ],
   "source": [
    "best_loss = 1e10\n",
    "best_f1 = 0\n",
    "best_threshold = 0\n",
    "k_fold = 3\n",
    "all_mean_losses = []\n",
    "all_f1_score = []\n",
    "all_mean_acc = []\n",
    "lambdas = np.linspace(0,5,6)\n",
    "\n",
    "for lambda_ in lambdas:\n",
    "\n",
    "    print(f\"\\nTraining with lambda={lambda_}\")\n",
    "    #sets for cross validation\n",
    "    k_indices = build_k_indices(y_train,k_fold,seed=42)\n",
    "\n",
    "    # Initialize weights\n",
    "    initial_w = np.zeros(x_train_processed.shape[1])\n",
    "    Losses = []     #losses for different k \n",
    "    f1_scores = []\n",
    "    accs=[]\n",
    "\n",
    "    # Train the model and get all losses and weights\n",
    "    for k in range(k_fold):\n",
    "        x_train_cross,y_train_cross,x_test_cross,y_test_cross = sets_for_cross_validation(y_train,x_train_processed,k_indices,k)\n",
    "        print('sets faits')\n",
    "        w, loss = reg_l2_logistic_regression(y_train_cross, x_train_cross,lambda_, initial_w, 500, 0.05454545,1)\n",
    "        print('logistic_regression faite')\n",
    "        loss = compute_loss_logistic(y_test_cross,x_test_cross,w) + np.sum(np.square(w))\n",
    "\n",
    "        y_val_pred_prob = sigmoid(x_test_cross @ w)\n",
    "        y_val_pred = np.where(y_val_pred_prob >= 0.19, 1, 0)\n",
    "\n",
    "        # Calculate F1 score and accuracy\n",
    "        f1 = calculate_f1_score(y_test_cross, y_val_pred)\n",
    "        acc = calculate_accuracy(y_test_cross, y_val_pred)\n",
    "\n",
    "        accs.append(acc)\n",
    "        f1_scores.append(f1)\n",
    "        Losses.append(loss)\n",
    "    \n",
    "    f1_score_mean = np.mean(f1_scores)\n",
    "    all_f1_score.append(f1_score_mean)\n",
    "    acc_mean = np.mean(accs)\n",
    "    all_mean_acc.append(acc_mean)\n",
    "    all_mean_losses.append(np.mean(Losses))\n",
    "        \n",
    "    # Update best model if this one is better\n",
    "    if np.mean(Losses) > best_loss:\n",
    "        best_loss = np.mean(Losses)\n",
    "        best_lambda = lambda_\n",
    "        print(f\"New best model found! With training loss: {np.mean(Losses):.4f}\")\n",
    "\n",
    "        \n",
    "        print(f\"Threshold: 0.5, F1 Score: {f1_score_mean:.4f}, Accuracy: {acc_mean * 100:.2f}%\")\n",
    "\n",
    "\n",
    "\n",
    "print(\"\\nBest hyperparameters:\", lambda_)\n",
    "print(f\"Best loss: {best_loss:.4f}\")\n",
    "print(f\"Best F1 score: {best_f1:.4f}\")"
   ]
  }
 ],
 "metadata": {
  "kernelspec": {
   "display_name": "ML_course1",
   "language": "python",
   "name": "python3"
  },
  "language_info": {
   "codemirror_mode": {
    "name": "ipython",
    "version": 3
   },
   "file_extension": ".py",
   "mimetype": "text/x-python",
   "name": "python",
   "nbconvert_exporter": "python",
   "pygments_lexer": "ipython3",
   "version": "3.11.9"
  }
 },
 "nbformat": 4,
 "nbformat_minor": 2
}

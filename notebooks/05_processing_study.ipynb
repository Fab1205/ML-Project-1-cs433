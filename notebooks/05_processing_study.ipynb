{
 "cells": [
  {
   "cell_type": "markdown",
   "metadata": {},
   "source": [
    "# 05 Processing Study\n",
    "\n",
    "In this notebook, we load the raw data, process it in different ways and test the best model found in `04_logistic_reg.ipynb` with these different datasets"
   ]
  },
  {
   "cell_type": "code",
   "execution_count": 10,
   "metadata": {},
   "outputs": [
    {
     "name": "stdout",
     "output_type": "stream",
     "text": [
      "The autoreload extension is already loaded. To reload it, use:\n",
      "  %reload_ext autoreload\n"
     ]
    }
   ],
   "source": [
    "%load_ext autoreload\n",
    "%autoreload 2\n"
   ]
  },
  {
   "cell_type": "code",
   "execution_count": 11,
   "metadata": {},
   "outputs": [],
   "source": [
    "# Imports\n",
    "import sys\n",
    "import os\n",
    "\n",
    "import numpy as np\n",
    "\n",
    "from data_loading import load_data\n",
    "from data_processing import preprocess_features\n",
    "from data_exploration import print_dataset_info, analyze_features_dict, select_features_based_on_correlation\n",
    "from utils import stratified_split\n",
    "from models import (\n",
    "    logistic_regression,\n",
    "    reg_l2_logistic_regression,\n",
    "    reg_l1_logistic_regression,\n",
    ")\n",
    "from train_pipeline import train_and_test, hyperparameters_grid_search"
   ]
  },
  {
   "cell_type": "markdown",
   "metadata": {},
   "source": [
    "#### Raw data loading"
   ]
  },
  {
   "cell_type": "code",
   "execution_count": 5,
   "metadata": {},
   "outputs": [
    {
     "name": "stdout",
     "output_type": "stream",
     "text": [
      "Loading raw data...\n",
      "Data loaded.\n"
     ]
    }
   ],
   "source": [
    "# Load and preprocessed data (~2 minutes)\n",
    "data_path = \"../data\"\n",
    "x_train, x_test, y_train, train_ids, test_ids, feature_names, feature_dict = load_data(data_path)"
   ]
  },
  {
   "cell_type": "markdown",
   "metadata": {},
   "source": [
    "#### Different processed datasets generation"
   ]
  },
  {
   "cell_type": "code",
   "execution_count": 6,
   "metadata": {},
   "outputs": [
    {
     "name": "stdout",
     "output_type": "stream",
     "text": [
      "Preprocessing data...\n",
      "Data preprocessed.\n",
      "\n",
      "Dataset Information\n",
      "====================\n",
      "\n",
      "Training Data\n",
      "328135 samples\n",
      "With labels: [0 1]\n",
      "0: 91.17%\n",
      "and 1: 8.83%\n",
      "\n",
      "Test Data\n",
      "109379 samples\n",
      "\n",
      "Features\n",
      "440 features:\n",
      "The first column of the datasets is the \"sample id\" and is not in the dictionary\n",
      "\n",
      "Features Dict Information\n",
      "====================\n",
      "\n",
      "Total number of features: 440\n",
      "\n",
      "Number of categorical features: 399\n",
      "Number of numerical features: 41\n",
      "\n",
      "Number of features to be discarded: 0\n",
      "\n",
      "Categorical feature subtypes:\n",
      "  undefined: 399\n",
      "\n",
      "Numerical feature subtypes:\n",
      "  undefined: 41\n",
      "\n",
      "Encoding types:\n",
      "  ordinal: 30\n",
      "  binary: 74\n",
      "  one-hot: 285\n",
      "  past_30_days: 2\n",
      "  frequency: 8\n"
     ]
    }
   ],
   "source": [
    "# Standard processing\n",
    "x_train_std, x_test_std, feature_names_std, feature_dict_std = preprocess_features(x_train, y_train, x_test, feature_names, feature_dict)\n",
    "\n",
    "print()\n",
    "print_dataset_info(x_train_std, y_train, x_test_std, feature_dict_std)\n",
    "analyze_features_dict(feature_dict_std)"
   ]
  },
  {
   "cell_type": "code",
   "execution_count": 17,
   "metadata": {},
   "outputs": [
    {
     "name": "stdout",
     "output_type": "stream",
     "text": [
      "Preprocessing data...\n",
      "Data preprocessed.\n"
     ]
    }
   ],
   "source": [
    "# Using median instead of mean\n",
    "x_train_med, x_test_med, feature_names_med, feature_dict_med = preprocess_features(\n",
    "    x_train, y_train, x_test, feature_names, feature_dict, imputation_strategy=\"mean\"\n",
    ")"
   ]
  },
  {
   "cell_type": "code",
   "execution_count": 18,
   "metadata": {},
   "outputs": [
    {
     "name": "stdout",
     "output_type": "stream",
     "text": [
      "Preprocessing data...\n",
      "Data preprocessed.\n",
      "\n",
      "Dataset Information\n",
      "====================\n",
      "\n",
      "Training Data\n",
      "328135 samples\n",
      "With labels: [0 1]\n",
      "0: 91.17%\n",
      "and 1: 8.83%\n",
      "\n",
      "Test Data\n",
      "109379 samples\n",
      "\n",
      "Features\n",
      "357 features:\n",
      "The first column of the datasets is the \"sample id\" and is not in the dictionary\n",
      "\n",
      "Features Dict Information\n",
      "====================\n",
      "\n",
      "Total number of features: 357\n",
      "\n",
      "Number of categorical features: 323\n",
      "Number of numerical features: 34\n",
      "\n",
      "Number of features to be discarded: 0\n",
      "\n",
      "Categorical feature subtypes:\n",
      "  undefined: 323\n",
      "\n",
      "Numerical feature subtypes:\n",
      "  undefined: 34\n",
      "\n",
      "Encoding types:\n",
      "  ordinal: 24\n",
      "  binary: 58\n",
      "  one-hot: 232\n",
      "  past_30_days: 2\n",
      "  frequency: 7\n"
     ]
    }
   ],
   "source": [
    "# Keeping only features with less than 50% missing values\n",
    "x_train_50, x_test_50, feature_names_50, feature_dict_50 = preprocess_features(\n",
    "    x_train, y_train, x_test, feature_names, feature_dict, percentage=0.5\n",
    ")\n",
    "\n",
    "print()\n",
    "print_dataset_info(x_train_50, y_train, x_test_50, feature_dict_50)\n",
    "analyze_features_dict(feature_dict_50)"
   ]
  },
  {
   "cell_type": "code",
   "execution_count": 19,
   "metadata": {},
   "outputs": [
    {
     "name": "stdout",
     "output_type": "stream",
     "text": [
      "Preprocessing data...\n",
      "Data preprocessed.\n",
      "\n",
      "Dataset Information\n",
      "====================\n",
      "\n",
      "Training Data\n",
      "328135 samples\n",
      "With labels: [0 1]\n",
      "0: 91.17%\n",
      "and 1: 8.83%\n",
      "\n",
      "Test Data\n",
      "109379 samples\n",
      "\n",
      "Features\n",
      "402 features:\n",
      "The first column of the datasets is the \"sample id\" and is not in the dictionary\n",
      "\n",
      "Features Dict Information\n",
      "====================\n",
      "\n",
      "Total number of features: 402\n",
      "\n",
      "Number of categorical features: 362\n",
      "Number of numerical features: 40\n",
      "\n",
      "Number of features to be discarded: 0\n",
      "\n",
      "Categorical feature subtypes:\n",
      "  undefined: 362\n",
      "\n",
      "Numerical feature subtypes:\n",
      "  undefined: 40\n",
      "\n",
      "Encoding types:\n",
      "  ordinal: 28\n",
      "  binary: 64\n",
      "  one-hot: 260\n",
      "  past_30_days: 2\n",
      "  frequency: 8\n"
     ]
    }
   ],
   "source": [
    "# Keeping only features with less than 75% missing values\n",
    "x_train_75, x_test_75, feature_names_75, feature_dict_75 = preprocess_features(\n",
    "    x_train, y_train, x_test, feature_names, feature_dict, percentage=0.75\n",
    ")\n",
    "\n",
    "print()\n",
    "print_dataset_info(x_train_75, y_train, x_test_75, feature_dict_75)\n",
    "analyze_features_dict(feature_dict_75)"
   ]
  },
  {
   "cell_type": "code",
   "execution_count": 13,
   "metadata": {},
   "outputs": [
    {
     "name": "stdout",
     "output_type": "stream",
     "text": [
      "Dataset Information\n",
      "====================\n",
      "\n",
      "Training Data\n",
      "328135 samples\n",
      "With labels: [0 1]\n",
      "0: 91.17%\n",
      "and 1: 8.83%\n",
      "\n",
      "Test Data\n",
      "109379 samples\n",
      "\n",
      "Features\n",
      "374 features:\n",
      "The first column of the datasets is the \"sample id\" and is not in the dictionary\n",
      "\n",
      "Features Dict Information\n",
      "====================\n",
      "\n",
      "Total number of features: 374\n",
      "\n",
      "Number of categorical features: 339\n",
      "Number of numerical features: 35\n",
      "\n",
      "Number of features to be discarded: 0\n",
      "\n",
      "Categorical feature subtypes:\n",
      "  undefined: 339\n",
      "\n",
      "Numerical feature subtypes:\n",
      "  undefined: 35\n",
      "\n",
      "Encoding types:\n",
      "  ordinal: 24\n",
      "  binary: 60\n",
      "  one-hot: 245\n",
      "  past_30_days: 2\n",
      "  frequency: 8\n"
     ]
    }
   ],
   "source": [
    "# Keep only values with less than 90% correlation with other features\n",
    "# From std processing\n",
    "x_train_std_90_corr, x_test_std_90_corr, feature_names_std_90_corr, feature_dict_std_90_corr = select_features_based_on_correlation(\n",
    "    x_train_std, y_train, x_test_std, feature_names_std, feature_dict_std, ff_threshold=0.9\n",
    ")\n",
    "\n",
    "print_dataset_info(x_train_std_90_corr, y_train, x_test_std_90_corr, feature_dict_std_90_corr)\n",
    "analyze_features_dict(feature_dict_std_90_corr)"
   ]
  },
  {
   "cell_type": "code",
   "execution_count": 14,
   "metadata": {},
   "outputs": [
    {
     "name": "stdout",
     "output_type": "stream",
     "text": [
      "Dataset Information\n",
      "====================\n",
      "\n",
      "Training Data\n",
      "328135 samples\n",
      "With labels: [0 1]\n",
      "0: 91.17%\n",
      "and 1: 8.83%\n",
      "\n",
      "Test Data\n",
      "109379 samples\n",
      "\n",
      "Features\n",
      "267 features:\n",
      "The first column of the datasets is the \"sample id\" and is not in the dictionary\n",
      "\n",
      "Features Dict Information\n",
      "====================\n",
      "\n",
      "Total number of features: 267\n",
      "\n",
      "Number of categorical features: 254\n",
      "Number of numerical features: 13\n",
      "\n",
      "Number of features to be discarded: 0\n",
      "\n",
      "Categorical feature subtypes:\n",
      "  undefined: 254\n",
      "\n",
      "Numerical feature subtypes:\n",
      "  undefined: 13\n",
      "\n",
      "Encoding types:\n",
      "  ordinal: 8\n",
      "  binary: 34\n",
      "  one-hot: 206\n",
      "  past_30_days: 2\n",
      "  frequency: 4\n"
     ]
    }
   ],
   "source": [
    "# Keep only values with less than 30% correlation with other features\n",
    "# From std processing\n",
    "x_train_std_30_corr, x_test_std_30_corr, feature_names_std_30_corr, feature_dict_std_30_corr = select_features_based_on_correlation(\n",
    "    x_train_std, y_train, x_test_std, feature_names_std, feature_dict_std, ff_threshold=0.3\n",
    ")\n",
    "\n",
    "print_dataset_info(x_train_std_30_corr, y_train, x_test_std_30_corr, feature_dict_std_30_corr)\n",
    "analyze_features_dict(feature_dict_std_30_corr)"
   ]
  },
  {
   "cell_type": "code",
   "execution_count": 15,
   "metadata": {},
   "outputs": [
    {
     "name": "stdout",
     "output_type": "stream",
     "text": [
      "Dataset Information\n",
      "====================\n",
      "\n",
      "Training Data\n",
      "328135 samples\n",
      "With labels: [0 1]\n",
      "0: 91.17%\n",
      "and 1: 8.83%\n",
      "\n",
      "Test Data\n",
      "109379 samples\n",
      "\n",
      "Features\n",
      "345 features:\n",
      "The first column of the datasets is the \"sample id\" and is not in the dictionary\n",
      "\n",
      "Features Dict Information\n",
      "====================\n",
      "\n",
      "Total number of features: 345\n",
      "\n",
      "Number of categorical features: 315\n",
      "Number of numerical features: 30\n",
      "\n",
      "Number of features to be discarded: 0\n",
      "\n",
      "Categorical feature subtypes:\n",
      "  undefined: 315\n",
      "\n",
      "Numerical feature subtypes:\n",
      "  undefined: 30\n",
      "\n",
      "Encoding types:\n",
      "  ordinal: 17\n",
      "  binary: 53\n",
      "  one-hot: 235\n",
      "  past_30_days: 2\n",
      "  frequency: 8\n"
     ]
    }
   ],
   "source": [
    "# Keep only values with less than 70% correlation with other features\n",
    "# From std processing\n",
    "x_train_std_70_corr, x_test_std_70_corr, feature_names_std_70_corr, feature_dict_std_70_corr = select_features_based_on_correlation(\n",
    "    x_train_std, y_train, x_test_std, feature_names_std, feature_dict_std, ff_threshold=0.7\n",
    ")\n",
    "\n",
    "print_dataset_info(x_train_std_70_corr, y_train, x_test_std_70_corr, feature_dict_std_70_corr)\n",
    "analyze_features_dict(feature_dict_std_70_corr)"
   ]
  },
  {
   "cell_type": "code",
   "execution_count": 20,
   "metadata": {},
   "outputs": [
    {
     "name": "stdout",
     "output_type": "stream",
     "text": [
      "Dataset Information\n",
      "====================\n",
      "\n",
      "Training Data\n",
      "328135 samples\n",
      "With labels: [0 1]\n",
      "0: 91.17%\n",
      "and 1: 8.83%\n",
      "\n",
      "Test Data\n",
      "109379 samples\n",
      "\n",
      "Features\n",
      "278 features:\n",
      "The first column of the datasets is the \"sample id\" and is not in the dictionary\n",
      "\n",
      "Features Dict Information\n",
      "====================\n",
      "\n",
      "Total number of features: 278\n",
      "\n",
      "Number of categorical features: 254\n",
      "Number of numerical features: 24\n",
      "\n",
      "Number of features to be discarded: 0\n",
      "\n",
      "Categorical feature subtypes:\n",
      "  undefined: 254\n",
      "\n",
      "Numerical feature subtypes:\n",
      "  undefined: 24\n",
      "\n",
      "Encoding types:\n",
      "  ordinal: 12\n",
      "  binary: 40\n",
      "  one-hot: 193\n",
      "  past_30_days: 2\n",
      "  frequency: 7\n"
     ]
    }
   ],
   "source": [
    "# Keep only values with less than 70% correlation with other features\n",
    "# From 50% missing values processing\n",
    "\n",
    "x_train_50_70_corr, x_test_50_70_corr, feature_names_50_70_corr, feature_dict_50_70_corr = select_features_based_on_correlation(\n",
    "    x_train_50, y_train, x_test_50, feature_names_50, feature_dict_50, ff_threshold=0.7\n",
    ")\n",
    "\n",
    "print_dataset_info(x_train_50_70_corr, y_train, x_test_50_70_corr, feature_dict_50_70_corr)\n",
    "analyze_features_dict(feature_dict_50_70_corr)"
   ]
  },
  {
   "cell_type": "code",
   "execution_count": 15,
   "metadata": {},
   "outputs": [],
   "source": [
    "# Regroup all the different datasets\n",
    "\n",
    "datasets = {\n",
    "    \"std\": (x_train_std, x_test_std, feature_names_std, feature_dict_std),\n",
    "    \"med\": (x_train_med, x_test_med, feature_names_med, feature_dict_med),\n",
    "    \"50\": (x_train_50, x_test_50, feature_names_50, feature_dict_50),\n",
    "    \"75\": (x_train_75, x_test_75, feature_names_75, feature_dict_75),\n",
    "    \"std_90_corr\": (x_train_std_90_corr, x_test_std_90_corr, feature_names_std_90_corr, feature_dict_std_90_corr),\n",
    "    \"std_30_corr\": (x_train_std_30_corr, x_test_std_30_corr, feature_names_std_30_corr, feature_dict_std_30_corr),\n",
    "    \"std_70_corr\": (x_train_std_70_corr, x_test_std_70_corr, feature_names_std_70_corr, feature_dict_std_70_corr),\n",
    "    \"50_70_corr\": (x_train_50_70_corr, x_test_50_70_corr, feature_names_50_70_corr, feature_dict_50_70_corr),\n",
    "}"
   ]
  },
  {
   "cell_type": "markdown",
   "metadata": {},
   "source": [
    "#### Logistic Regression\n",
    "Training and testing the best model (based on F1 score) so far\n",
    "- gamma : 0.1\n",
    "- max_iters : 1500\n",
    "- class_weight : 1\n",
    "- threshold : 0.54"
   ]
  },
  {
   "cell_type": "code",
   "execution_count": 29,
   "metadata": {},
   "outputs": [],
   "source": [
    "# Model parameters\n",
    "hyperparameters = {\"gamma\": 0.1, \"max_iters\": 1500, \"class_weight\": 1, \"threshold\": 0.54}"
   ]
  },
  {
   "cell_type": "code",
   "execution_count": null,
   "metadata": {},
   "outputs": [],
   "source": [
    "# Now for each set, split the training into train and validation and train the model\n",
    "\n",
    "for name, (x_train, x_test, feature_names, feature_dict) in datasets.items():\n",
    "    print(f\"Training model with dataset {name}\")\n",
    "    x_train_split, y_train_split, _, x_val_split, y_val_split, _ = stratified_split(x_train, y_train, train_ids)\n",
    "    # add the initial weights to the hyperparameters\n",
    "    hyperparameters[\"initial_w\"] = np.zeros(x_train_split.shape[1])\n",
    "    w, loss = train_and_test(x_train_split, y_train_split, x_val_split, y_val_split, logistic_regression, **hyperparameters)\n",
    "    print()"
   ]
  },
  {
   "cell_type": "markdown",
   "metadata": {},
   "source": [
    "#### Other processed datasets"
   ]
  },
  {
   "cell_type": "code",
   "execution_count": 27,
   "metadata": {},
   "outputs": [
    {
     "data": {
      "image/png": "[encoded data removed]",
      "text/plain": [
       "<Figure size 1000x600 with 1 Axes>"
      ]
     },
     "metadata": {},
     "output_type": "display_data"
    },
    {
     "name": "stdout",
     "output_type": "stream",
     "text": [
      "Dataset Information\n",
      "====================\n",
      "\n",
      "Training Data\n",
      "328135 samples\n",
      "With labels: [0 1]\n",
      "0: 91.17%\n",
      "and 1: 8.83%\n",
      "\n",
      "Test Data\n",
      "109379 samples\n",
      "\n",
      "Features\n",
      "43 features:\n",
      "The first column of the datasets is the \"sample id\" and is not in the dictionary\n",
      "\n",
      "Features Dict Information\n",
      "====================\n",
      "\n",
      "Total number of features: 43\n",
      "\n",
      "Number of categorical features: 32\n",
      "Number of numerical features: 11\n",
      "\n",
      "Number of features to be discarded: 0\n",
      "\n",
      "Categorical feature subtypes:\n",
      "  undefined: 32\n",
      "\n",
      "Numerical feature subtypes:\n",
      "  undefined: 11\n",
      "\n",
      "Encoding types:\n",
      "  ordinal: 6\n",
      "  one-hot: 10\n",
      "  binary: 16\n"
     ]
    }
   ],
   "source": [
    "# On std dataset\n",
    "# Keep only features with at least mi_threshold of\n",
    "x_train_std_mi, x_test_std_mi, feature_names_std_mi, feature_dict_std_mi = select_features_based_on_correlation(\n",
    "    x_train_std, y_train, x_test_std, feature_names_std, feature_dict_std, mi_threshold=0.01, display_plot=True\n",
    ")\n",
    "\n",
    "print_dataset_info(x_train_std_mi, y_train, x_test_std_mi, feature_dict_std_mi)\n",
    "analyze_features_dict(feature_dict_std_mi)\n",
    " "
   ]
  },
  {
   "cell_type": "code",
   "execution_count": 31,
   "metadata": {},
   "outputs": [
    {
     "name": "stdout",
     "output_type": "stream",
     "text": [
      "Model specific parameters:\n",
      "    gamma: 0.1\n",
      "    max_iters: 1500\n",
      "    class_weight: 1\n",
      "\n",
      "Training model...\n",
      "Training done in 1 min 12.67 s with last loss: 0.23111\n"
     ]
    },
    {
     "data": {
      "image/png": "[encoded data removed]",
      "text/plain": [
       "<Figure size 640x480 with 1 Axes>"
      ]
     },
     "metadata": {},
     "output_type": "display_data"
    },
    {
     "name": "stdout",
     "output_type": "stream",
     "text": [
      "Metrics: Accuracy = 0.914, F1 Score = 0.144\n",
      "Training and evaluation complete.\n",
      "Results saved in ../results/logs/logistic_regression_20241030181302\n"
     ]
    }
   ],
   "source": [
    "# Train and test the model on the dataset with the selected features\n",
    "x_train_split, y_train_split, _, x_val_split, y_val_split, _ = stratified_split(x_train_std_mi, y_train, train_ids)\n",
    "hyperparameters[\"initial_w\"] = np.zeros(x_train_split.shape[1])\n",
    "\n",
    "w, loss = train_and_test(x_train_split, y_train_split, x_val_split, y_val_split, logistic_regression, verbose=True, **hyperparameters)\n"
   ]
  },
  {
   "cell_type": "code",
   "execution_count": null,
   "metadata": {},
   "outputs": [],
   "source": []
  }
 ],
 "metadata": {
  "kernelspec": {
   "display_name": "ml_project1",
   "language": "python",
   "name": "python3"
  },
  "language_info": {
   "codemirror_mode": {
    "name": "ipython",
    "version": 3
   },
   "file_extension": ".py",
   "mimetype": "text/x-python",
   "name": "python",
   "nbconvert_exporter": "python",
   "pygments_lexer": "ipython3",
   "version": "3.12.5"
  }
 },
 "nbformat": 4,
 "nbformat_minor": 2
}

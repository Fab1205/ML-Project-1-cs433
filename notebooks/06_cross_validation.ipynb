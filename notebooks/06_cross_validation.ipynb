{
 "cells": [
  {
   "cell_type": "markdown",
   "metadata": {},
   "source": [
    "# 06 Cross-Validation Study\n",
    "\n",
    "In this notebook, we use cross-validation to tune hyperparameters of the logistic regression function."
   ]
  },
  {
   "cell_type": "code",
   "execution_count": 18,
   "metadata": {},
   "outputs": [
    {
     "name": "stdout",
     "output_type": "stream",
     "text": [
      "The autoreload extension is already loaded. To reload it, use:\n",
      "  %reload_ext autoreload\n"
     ]
    }
   ],
   "source": [
    "%load_ext autoreload\n",
    "%autoreload 2\n"
   ]
  },
  {
   "cell_type": "code",
   "execution_count": 19,
   "metadata": {},
   "outputs": [],
   "source": [
    "# Imports\n",
    "import sys\n",
    "import os\n",
    "\n",
    "import numpy as np\n",
    "\n",
    "from data_loading import load_data\n",
    "from models import logistic_regression, reg_l2_logistic_regression, reg_l1_logistic_regression\n",
    "from train_pipeline import grid_search_with_cross_validation"
   ]
  },
  {
   "cell_type": "markdown",
   "metadata": {},
   "source": [
    "#### Data loading and std processing"
   ]
  },
  {
   "cell_type": "code",
   "execution_count": 20,
   "metadata": {},
   "outputs": [
    {
     "name": "stdout",
     "output_type": "stream",
     "text": [
      "Loading raw data...\n",
      "Data loaded.\n",
      "Preprocessing data...\n",
      "Data preprocessed.\n"
     ]
    }
   ],
   "source": [
    "# Load and preprocessed data\n",
    "data_path = \"../data\"\n",
    "x_train, x_test, y_train, train_ids, test_ids, feature_names, feature_dict = load_data(data_path, preprocessed=True)"
   ]
  },
  {
   "cell_type": "markdown",
   "metadata": {},
   "source": [
    "#### Logistic Regresion Cross Val"
   ]
  },
  {
   "cell_type": "code",
   "execution_count": 26,
   "metadata": {},
   "outputs": [],
   "source": [
    "# Model parameters\n",
    "# Grid search for hyperparameters\n",
    "gammas = [0.01]\n",
    "thresholds = [0.2, 0.5, 0.7]\n",
    "\n",
    "max_iters = 500\n",
    "class_weights = [1, 4.5, 5, 5.5]\n",
    "\n",
    "hyperparameters_ranges = {\n",
    "    \"gamma\": gammas,\n",
    "    \"threshold\": thresholds,\n",
    "    \"max_iters\": [max_iters],\n",
    "    \"class_weight\": class_weights,\n",
    "}\n"
   ]
  },
  {
   "cell_type": "code",
   "execution_count": 27,
   "metadata": {},
   "outputs": [
    {
     "name": "stdout",
     "output_type": "stream",
     "text": [
      "Fold 1/3, Threshold: 0.2, F1 Score: 0.3638, Accuracy: 0.8672\n",
      "Fold 1/3, Threshold: 0.5, F1 Score: 0.0268, Accuracy: 0.9118\n",
      "Fold 1/3, Threshold: 0.7, F1 Score: 0.0004, Accuracy: 0.9117\n",
      "Fold 2/3, Threshold: 0.2, F1 Score: 0.3727, Accuracy: 0.8699\n",
      "Fold 2/3, Threshold: 0.5, F1 Score: 0.0279, Accuracy: 0.9121\n",
      "Fold 2/3, Threshold: 0.7, F1 Score: 0.0002, Accuracy: 0.9117\n",
      "Fold 3/3, Threshold: 0.2, F1 Score: 0.3621, Accuracy: 0.8673\n",
      "Fold 3/3, Threshold: 0.5, F1 Score: 0.0294, Accuracy: 0.9120\n",
      "Fold 3/3, Threshold: 0.7, F1 Score: 0.0006, Accuracy: 0.9117\n",
      "********************\n",
      "New best F1 Score: 0.3662 with parameters {'gamma': 0.01, 'max_iters': 500, 'class_weight': 1, 'threshold': 0.2}\n",
      "********************\n",
      "Fold 1/3, Threshold: 0.2, F1 Score: 0.2970, Accuracy: 0.6189\n",
      "Fold 1/3, Threshold: 0.5, F1 Score: 0.3984, Accuracy: 0.8561\n",
      "Fold 1/3, Threshold: 0.7, F1 Score: 0.2865, Accuracy: 0.9073\n",
      "Fold 2/3, Threshold: 0.2, F1 Score: 0.2961, Accuracy: 0.6182\n",
      "Fold 2/3, Threshold: 0.5, F1 Score: 0.3998, Accuracy: 0.8575\n",
      "Fold 2/3, Threshold: 0.7, F1 Score: 0.2779, Accuracy: 0.9069\n",
      "Fold 3/3, Threshold: 0.2, F1 Score: 0.2979, Accuracy: 0.6172\n",
      "Fold 3/3, Threshold: 0.5, F1 Score: 0.4025, Accuracy: 0.8569\n",
      "Fold 3/3, Threshold: 0.7, F1 Score: 0.2937, Accuracy: 0.9088\n",
      "********************\n",
      "New best F1 Score: 0.4002 with parameters {'gamma': 0.01, 'max_iters': 500, 'class_weight': 4.5, 'threshold': 0.5}\n",
      "********************\n",
      "Fold 1/3, Threshold: 0.2, F1 Score: 0.2890, Accuracy: 0.5979\n",
      "Fold 1/3, Threshold: 0.5, F1 Score: 0.3964, Accuracy: 0.8444\n",
      "Fold 1/3, Threshold: 0.7, F1 Score: 0.3128, Accuracy: 0.9046\n",
      "Fold 2/3, Threshold: 0.2, F1 Score: 0.2902, Accuracy: 0.6014\n",
      "Fold 2/3, Threshold: 0.5, F1 Score: 0.3975, Accuracy: 0.8444\n",
      "Fold 2/3, Threshold: 0.7, F1 Score: 0.3113, Accuracy: 0.9039\n",
      "Fold 3/3, Threshold: 0.2, F1 Score: 0.2892, Accuracy: 0.5993\n",
      "Fold 3/3, Threshold: 0.5, F1 Score: 0.4050, Accuracy: 0.8462\n",
      "Fold 3/3, Threshold: 0.7, F1 Score: 0.3193, Accuracy: 0.9052\n",
      "Fold 1/3, Threshold: 0.2, F1 Score: 0.2824, Accuracy: 0.5822\n",
      "Fold 1/3, Threshold: 0.5, F1 Score: 0.3977, Accuracy: 0.8343\n",
      "Fold 1/3, Threshold: 0.7, F1 Score: 0.3351, Accuracy: 0.9018\n",
      "Fold 2/3, Threshold: 0.2, F1 Score: 0.2820, Accuracy: 0.5829\n",
      "Fold 2/3, Threshold: 0.5, F1 Score: 0.3978, Accuracy: 0.8332\n",
      "Fold 2/3, Threshold: 0.7, F1 Score: 0.3377, Accuracy: 0.9000\n",
      "Fold 3/3, Threshold: 0.2, F1 Score: 0.2847, Accuracy: 0.5835\n",
      "Fold 3/3, Threshold: 0.5, F1 Score: 0.3988, Accuracy: 0.8335\n",
      "Fold 3/3, Threshold: 0.7, F1 Score: 0.3374, Accuracy: 0.9011\n",
      "\n",
      "Best Parameters: {'gamma': 0.01, 'max_iters': 500, 'class_weight': 4.5, 'initial_w': array([0., 0., 0., 0., 0., 0., 0., 0., 0., 0., 0., 0., 0., 0., 0., 0., 0.,\n",
      "       0., 0., 0., 0., 0., 0., 0., 0., 0., 0., 0., 0., 0., 0., 0., 0., 0.,\n",
      "       0., 0., 0., 0., 0., 0., 0., 0., 0., 0., 0., 0., 0., 0., 0., 0., 0.,\n",
      "       0., 0., 0., 0., 0., 0., 0., 0., 0., 0., 0., 0., 0., 0., 0., 0., 0.,\n",
      "       0., 0., 0., 0., 0., 0., 0., 0., 0., 0., 0., 0., 0., 0., 0., 0., 0.,\n",
      "       0., 0., 0., 0., 0., 0., 0., 0., 0., 0., 0., 0., 0., 0., 0., 0., 0.,\n",
      "       0., 0., 0., 0., 0., 0., 0., 0., 0., 0., 0., 0., 0., 0., 0., 0., 0.,\n",
      "       0., 0., 0., 0., 0., 0., 0., 0., 0., 0., 0., 0., 0., 0., 0., 0., 0.,\n",
      "       0., 0., 0., 0., 0., 0., 0., 0., 0., 0., 0., 0., 0., 0., 0., 0., 0.,\n",
      "       0., 0., 0., 0., 0., 0., 0., 0., 0., 0., 0., 0., 0., 0., 0., 0., 0.,\n",
      "       0., 0., 0., 0., 0., 0., 0., 0., 0., 0., 0., 0., 0., 0., 0., 0., 0.,\n",
      "       0., 0., 0., 0., 0., 0., 0., 0., 0., 0., 0., 0., 0., 0., 0., 0., 0.,\n",
      "       0., 0., 0., 0., 0., 0., 0., 0., 0., 0., 0., 0., 0., 0., 0., 0., 0.,\n",
      "       0., 0., 0., 0., 0., 0., 0., 0., 0., 0., 0., 0., 0., 0., 0., 0., 0.,\n",
      "       0., 0., 0., 0., 0., 0., 0., 0., 0., 0., 0., 0., 0., 0., 0., 0., 0.,\n",
      "       0., 0., 0., 0., 0., 0., 0., 0., 0., 0., 0., 0., 0., 0., 0., 0., 0.,\n",
      "       0., 0., 0., 0., 0., 0., 0., 0., 0., 0., 0., 0., 0., 0., 0., 0., 0.,\n",
      "       0., 0., 0., 0., 0., 0., 0., 0., 0., 0., 0., 0., 0., 0., 0., 0., 0.,\n",
      "       0., 0., 0., 0., 0., 0., 0., 0., 0., 0., 0., 0., 0., 0., 0., 0., 0.,\n",
      "       0., 0., 0., 0., 0., 0., 0., 0., 0., 0., 0., 0., 0., 0., 0., 0., 0.,\n",
      "       0., 0., 0., 0., 0., 0., 0., 0., 0., 0., 0., 0., 0., 0., 0., 0., 0.,\n",
      "       0., 0., 0., 0., 0., 0., 0., 0., 0., 0., 0., 0., 0., 0., 0., 0., 0.,\n",
      "       0., 0., 0., 0., 0., 0., 0., 0., 0., 0., 0., 0., 0., 0., 0., 0., 0.,\n",
      "       0., 0., 0., 0., 0., 0., 0., 0., 0., 0., 0., 0., 0., 0., 0., 0., 0.,\n",
      "       0., 0., 0., 0., 0., 0., 0., 0., 0., 0., 0., 0., 0., 0., 0., 0., 0.,\n",
      "       0., 0., 0., 0., 0., 0., 0., 0., 0., 0., 0., 0., 0., 0., 0.]), 'threshold': 0.5}\n",
      "Best Average F1 Score: 0.4002, Best Average Accuracy: 0.8568\n"
     ]
    }
   ],
   "source": [
    "# Grid search with cross validation\n",
    "best_params, best_avg_f1_score, best_avg_accuracy, best_weights = grid_search_with_cross_validation(\n",
    "    x_train, y_train, logistic_regression, hyperparameters_ranges, n_splits=3, verbose=True\n",
    ")"
   ]
  },
  {
   "cell_type": "code",
   "execution_count": 29,
   "metadata": {},
   "outputs": [
    {
     "name": "stdout",
     "output_type": "stream",
     "text": [
      "Fold 1/3, Threshold: 0.2, F1 Score: 0.3635, Accuracy: 0.7541\n",
      "Fold 1/3, Threshold: 0.5, F1 Score: 0.4073, Accuracy: 0.8838\n",
      "Fold 1/3, Threshold: 0.7, F1 Score: 0.3089, Accuracy: 0.9092\n",
      "Fold 2/3, Threshold: 0.2, F1 Score: 0.0000, Accuracy: 0.9117\n",
      "Fold 2/3, Threshold: 0.5, F1 Score: 0.0000, Accuracy: 0.9117\n",
      "Fold 2/3, Threshold: 0.7, F1 Score: 0.0000, Accuracy: 0.9117\n",
      "Fold 3/3, Threshold: 0.2, F1 Score: 0.3406, Accuracy: 0.9048\n",
      "Fold 3/3, Threshold: 0.5, F1 Score: 0.0831, Accuracy: 0.9134\n",
      "Fold 3/3, Threshold: 0.7, F1 Score: 0.0154, Accuracy: 0.9122\n",
      "********************\n",
      "New best F1 Score: 0.2347 with parameters {'gamma': 0.1, 'max_iters': 500, 'class_weight': 1, 'threshold': 0.2}\n",
      "********************\n",
      "Fold 1/3, Threshold: 0.2, F1 Score: 0.2347, Accuracy: 0.9116\n",
      "Fold 1/3, Threshold: 0.5, F1 Score: 0.1770, Accuracy: 0.9134\n",
      "Fold 1/3, Threshold: 0.7, F1 Score: 0.1371, Accuracy: 0.9133\n",
      "Fold 2/3, Threshold: 0.2, F1 Score: 0.2764, Accuracy: 0.5639\n",
      "Fold 2/3, Threshold: 0.5, F1 Score: 0.2966, Accuracy: 0.6147\n",
      "Fold 2/3, Threshold: 0.7, F1 Score: 0.3096, Accuracy: 0.6445\n",
      "Fold 3/3, Threshold: 0.2, F1 Score: 0.2759, Accuracy: 0.5632\n",
      "Fold 3/3, Threshold: 0.5, F1 Score: 0.2954, Accuracy: 0.6127\n",
      "Fold 3/3, Threshold: 0.7, F1 Score: 0.3068, Accuracy: 0.6414\n",
      "********************\n",
      "New best F1 Score: 0.2623 with parameters {'gamma': 0.1, 'max_iters': 500, 'class_weight': 4.5, 'threshold': 0.2}\n",
      "********************\n",
      "Fold 1/3, Threshold: 0.2, F1 Score: 0.2721, Accuracy: 0.5518\n",
      "Fold 1/3, Threshold: 0.5, F1 Score: 0.2896, Accuracy: 0.5976\n",
      "Fold 1/3, Threshold: 0.7, F1 Score: 0.3005, Accuracy: 0.6246\n",
      "Fold 2/3, Threshold: 0.2, F1 Score: 0.2715, Accuracy: 0.5525\n",
      "Fold 2/3, Threshold: 0.5, F1 Score: 0.2893, Accuracy: 0.5979\n",
      "Fold 2/3, Threshold: 0.7, F1 Score: 0.3005, Accuracy: 0.6253\n",
      "Fold 3/3, Threshold: 0.2, F1 Score: 0.2611, Accuracy: 0.9090\n",
      "Fold 3/3, Threshold: 0.5, F1 Score: 0.2104, Accuracy: 0.9122\n",
      "Fold 3/3, Threshold: 0.7, F1 Score: 0.1755, Accuracy: 0.9128\n",
      "********************\n",
      "New best F1 Score: 0.2682 with parameters {'gamma': 0.1, 'max_iters': 500, 'class_weight': 5, 'threshold': 0.2}\n",
      "********************\n",
      "Fold 1/3, Threshold: 0.2, F1 Score: 0.2654, Accuracy: 0.5342\n",
      "Fold 1/3, Threshold: 0.5, F1 Score: 0.2814, Accuracy: 0.5770\n",
      "Fold 1/3, Threshold: 0.7, F1 Score: 0.2921, Accuracy: 0.6026\n",
      "Fold 2/3, Threshold: 0.2, F1 Score: 0.2667, Accuracy: 0.5366\n",
      "Fold 2/3, Threshold: 0.5, F1 Score: 0.2832, Accuracy: 0.5799\n",
      "Fold 2/3, Threshold: 0.7, F1 Score: 0.2936, Accuracy: 0.6053\n",
      "Fold 3/3, Threshold: 0.2, F1 Score: 0.2988, Accuracy: 0.9090\n",
      "Fold 3/3, Threshold: 0.5, F1 Score: 0.2525, Accuracy: 0.9120\n",
      "Fold 3/3, Threshold: 0.7, F1 Score: 0.2197, Accuracy: 0.9132\n",
      "********************\n",
      "New best F1 Score: 0.2770 with parameters {'gamma': 0.1, 'max_iters': 500, 'class_weight': 5.5, 'threshold': 0.2}\n",
      "********************\n",
      "\n",
      "Best Parameters: {'gamma': 0.1, 'max_iters': 500, 'class_weight': 5.5, 'initial_w': array([0., 0., 0., 0., 0., 0., 0., 0., 0., 0., 0., 0., 0., 0., 0., 0., 0.,\n",
      "       0., 0., 0., 0., 0., 0., 0., 0., 0., 0., 0., 0., 0., 0., 0., 0., 0.,\n",
      "       0., 0., 0., 0., 0., 0., 0., 0., 0., 0., 0., 0., 0., 0., 0., 0., 0.,\n",
      "       0., 0., 0., 0., 0., 0., 0., 0., 0., 0., 0., 0., 0., 0., 0., 0., 0.,\n",
      "       0., 0., 0., 0., 0., 0., 0., 0., 0., 0., 0., 0., 0., 0., 0., 0., 0.,\n",
      "       0., 0., 0., 0., 0., 0., 0., 0., 0., 0., 0., 0., 0., 0., 0., 0., 0.,\n",
      "       0., 0., 0., 0., 0., 0., 0., 0., 0., 0., 0., 0., 0., 0., 0., 0., 0.,\n",
      "       0., 0., 0., 0., 0., 0., 0., 0., 0., 0., 0., 0., 0., 0., 0., 0., 0.,\n",
      "       0., 0., 0., 0., 0., 0., 0., 0., 0., 0., 0., 0., 0., 0., 0., 0., 0.,\n",
      "       0., 0., 0., 0., 0., 0., 0., 0., 0., 0., 0., 0., 0., 0., 0., 0., 0.,\n",
      "       0., 0., 0., 0., 0., 0., 0., 0., 0., 0., 0., 0., 0., 0., 0., 0., 0.,\n",
      "       0., 0., 0., 0., 0., 0., 0., 0., 0., 0., 0., 0., 0., 0., 0., 0., 0.,\n",
      "       0., 0., 0., 0., 0., 0., 0., 0., 0., 0., 0., 0., 0., 0., 0., 0., 0.,\n",
      "       0., 0., 0., 0., 0., 0., 0., 0., 0., 0., 0., 0., 0., 0., 0., 0., 0.,\n",
      "       0., 0., 0., 0., 0., 0., 0., 0., 0., 0., 0., 0., 0., 0., 0., 0., 0.,\n",
      "       0., 0., 0., 0., 0., 0., 0., 0., 0., 0., 0., 0., 0., 0., 0., 0., 0.,\n",
      "       0., 0., 0., 0., 0., 0., 0., 0., 0., 0., 0., 0., 0., 0., 0., 0., 0.,\n",
      "       0., 0., 0., 0., 0., 0., 0., 0., 0., 0., 0., 0., 0., 0., 0., 0., 0.,\n",
      "       0., 0., 0., 0., 0., 0., 0., 0., 0., 0., 0., 0., 0., 0., 0., 0., 0.,\n",
      "       0., 0., 0., 0., 0., 0., 0., 0., 0., 0., 0., 0., 0., 0., 0., 0., 0.,\n",
      "       0., 0., 0., 0., 0., 0., 0., 0., 0., 0., 0., 0., 0., 0., 0., 0., 0.,\n",
      "       0., 0., 0., 0., 0., 0., 0., 0., 0., 0., 0., 0., 0., 0., 0., 0., 0.,\n",
      "       0., 0., 0., 0., 0., 0., 0., 0., 0., 0., 0., 0., 0., 0., 0., 0., 0.,\n",
      "       0., 0., 0., 0., 0., 0., 0., 0., 0., 0., 0., 0., 0., 0., 0., 0., 0.,\n",
      "       0., 0., 0., 0., 0., 0., 0., 0., 0., 0., 0., 0., 0., 0., 0., 0., 0.,\n",
      "       0., 0., 0., 0., 0., 0., 0., 0., 0., 0., 0., 0., 0., 0., 0.]), 'threshold': 0.2}\n",
      "Best Average F1 Score: 0.2770, Best Average Accuracy: 0.6599\n"
     ]
    }
   ],
   "source": [
    "# Model parameters\n",
    "# Grid search for hyperparameters\n",
    "gammas = [0.1]\n",
    "thresholds = [0.2, 0.5, 0.7]\n",
    "\n",
    "max_iters = 500\n",
    "class_weights = [1, 4.5, 5, 5.5]\n",
    "\n",
    "hyperparameters_ranges = {\n",
    "    \"gamma\": gammas,\n",
    "    \"threshold\": thresholds,\n",
    "    \"max_iters\": [max_iters],\n",
    "    \"class_weight\": class_weights,\n",
    "}\n",
    "\n",
    "# Grid search with cross validation\n",
    "best_params, best_avg_f1_score, best_avg_accuracy, best_weights = grid_search_with_cross_validation(\n",
    "    x_train, y_train, logistic_regression, hyperparameters_ranges, n_splits=3, verbose=True)"
   ]
  },
  {
   "cell_type": "code",
   "execution_count": 30,
   "metadata": {},
   "outputs": [
    {
     "name": "stdout",
     "output_type": "stream",
     "text": [
      "Fold 1/3, Threshold: 0.2, F1 Score: 0.0302, Accuracy: 0.9120\n",
      "Fold 1/3, Threshold: 0.5, F1 Score: 0.0000, Accuracy: 0.9117\n",
      "Fold 1/3, Threshold: 0.7, F1 Score: 0.0000, Accuracy: 0.9117\n",
      "Fold 2/3, Threshold: 0.2, F1 Score: 0.0000, Accuracy: 0.9117\n",
      "Fold 2/3, Threshold: 0.5, F1 Score: 0.0000, Accuracy: 0.9117\n",
      "Fold 2/3, Threshold: 0.7, F1 Score: 0.0000, Accuracy: 0.9117\n",
      "Fold 3/3, Threshold: 0.2, F1 Score: 0.0000, Accuracy: 0.9117\n",
      "Fold 3/3, Threshold: 0.5, F1 Score: 0.0000, Accuracy: 0.9117\n",
      "Fold 3/3, Threshold: 0.7, F1 Score: 0.0000, Accuracy: 0.9117\n",
      "********************\n",
      "New best F1 Score: 0.0101 with parameters {'gamma': 0.1, 'max_iters': 500, 'class_weight': 1, 'lambda_': 0.1, 'threshold': 0.2}\n",
      "********************\n",
      "Fold 1/3, Threshold: 0.2, F1 Score: 0.3129, Accuracy: 0.6520\n",
      "Fold 1/3, Threshold: 0.5, F1 Score: 0.4023, Accuracy: 0.8331\n",
      "Fold 1/3, Threshold: 0.7, F1 Score: 0.3747, Accuracy: 0.8890\n",
      "Fold 2/3, Threshold: 0.2, F1 Score: 0.1482, Accuracy: 0.9133\n",
      "Fold 2/3, Threshold: 0.5, F1 Score: 0.0060, Accuracy: 0.9119\n",
      "Fold 2/3, Threshold: 0.7, F1 Score: 0.0000, Accuracy: 0.9117\n",
      "Fold 3/3, Threshold: 0.2, F1 Score: 0.0000, Accuracy: 0.9117\n",
      "Fold 3/3, Threshold: 0.5, F1 Score: 0.0000, Accuracy: 0.9117\n",
      "Fold 3/3, Threshold: 0.7, F1 Score: 0.0000, Accuracy: 0.9117\n",
      "********************\n",
      "New best F1 Score: 0.1537 with parameters {'gamma': 0.1, 'max_iters': 500, 'class_weight': 1, 'lambda_': 0.01, 'threshold': 0.2}\n",
      "********************\n",
      "Fold 1/3, Threshold: 0.2, F1 Score: 0.2844, Accuracy: 0.8944\n",
      "Fold 1/3, Threshold: 0.5, F1 Score: 0.1960, Accuracy: 0.9067\n",
      "Fold 1/3, Threshold: 0.7, F1 Score: 0.1329, Accuracy: 0.9098\n",
      "Fold 2/3, Threshold: 0.2, F1 Score: 0.1834, Accuracy: 0.2181\n",
      "Fold 2/3, Threshold: 0.5, F1 Score: 0.1933, Accuracy: 0.2694\n",
      "Fold 2/3, Threshold: 0.7, F1 Score: 0.1997, Accuracy: 0.3003\n",
      "Fold 3/3, Threshold: 0.2, F1 Score: 0.3580, Accuracy: 0.7992\n",
      "Fold 3/3, Threshold: 0.5, F1 Score: 0.3607, Accuracy: 0.8506\n",
      "Fold 3/3, Threshold: 0.7, F1 Score: 0.3447, Accuracy: 0.8735\n",
      "********************\n",
      "New best F1 Score: 0.2753 with parameters {'gamma': 0.1, 'max_iters': 500, 'class_weight': 4.5, 'lambda_': 0.1, 'threshold': 0.2}\n",
      "********************\n",
      "Fold 1/3, Threshold: 0.2, F1 Score: 0.1492, Accuracy: 0.9115\n",
      "Fold 1/3, Threshold: 0.5, F1 Score: 0.0931, Accuracy: 0.9125\n",
      "Fold 1/3, Threshold: 0.7, F1 Score: 0.0651, Accuracy: 0.9125\n",
      "Fold 2/3, Threshold: 0.2, F1 Score: 0.3045, Accuracy: 0.6339\n",
      "Fold 2/3, Threshold: 0.5, F1 Score: 0.3342, Accuracy: 0.6977\n",
      "Fold 2/3, Threshold: 0.7, F1 Score: 0.3531, Accuracy: 0.7341\n",
      "Fold 3/3, Threshold: 0.2, F1 Score: 0.2112, Accuracy: 0.3490\n",
      "Fold 3/3, Threshold: 0.5, F1 Score: 0.2266, Accuracy: 0.4106\n",
      "Fold 3/3, Threshold: 0.7, F1 Score: 0.2379, Accuracy: 0.4498\n",
      "Fold 1/3, Threshold: 0.2, F1 Score: 0.3347, Accuracy: 0.7316\n",
      "Fold 1/3, Threshold: 0.5, F1 Score: 0.3590, Accuracy: 0.7983\n",
      "Fold 1/3, Threshold: 0.7, F1 Score: 0.3603, Accuracy: 0.8306\n"
     ]
    },
    {
     "ename": "KeyboardInterrupt",
     "evalue": "",
     "output_type": "error",
     "traceback": [
      "\u001b[0;31m---------------------------------------------------------------------------\u001b[0m",
      "\u001b[0;31mKeyboardInterrupt\u001b[0m                         Traceback (most recent call last)",
      "Cell \u001b[0;32mIn[30], line 18\u001b[0m\n\u001b[1;32m      9\u001b[0m hyperparameters_ranges \u001b[38;5;241m=\u001b[39m {\n\u001b[1;32m     10\u001b[0m     \u001b[38;5;124m\"\u001b[39m\u001b[38;5;124mgamma\u001b[39m\u001b[38;5;124m\"\u001b[39m: gammas,\n\u001b[1;32m     11\u001b[0m     \u001b[38;5;124m\"\u001b[39m\u001b[38;5;124mthreshold\u001b[39m\u001b[38;5;124m\"\u001b[39m: thresholds,\n\u001b[0;32m   (...)\u001b[0m\n\u001b[1;32m     14\u001b[0m     \u001b[38;5;124m\"\u001b[39m\u001b[38;5;124mlambda_\u001b[39m\u001b[38;5;124m\"\u001b[39m: lambdas,\n\u001b[1;32m     15\u001b[0m }\n\u001b[1;32m     17\u001b[0m \u001b[38;5;66;03m# Grid search with cross validation\u001b[39;00m\n\u001b[0;32m---> 18\u001b[0m best_params, best_avg_f1_score, best_avg_accuracy, best_weights \u001b[38;5;241m=\u001b[39m grid_search_with_cross_validation(\n\u001b[1;32m     19\u001b[0m     x_train, y_train, reg_l2_logistic_regression, hyperparameters_ranges, n_splits\u001b[38;5;241m=\u001b[39m\u001b[38;5;241m3\u001b[39m, verbose\u001b[38;5;241m=\u001b[39m\u001b[38;5;28;01mTrue\u001b[39;00m\n\u001b[1;32m     20\u001b[0m )\n",
      "File \u001b[0;32m~/Documents/Neuro-X/MA3/cs-433/ml-project-1-ml_fs/src/train_pipeline.py:448\u001b[0m, in \u001b[0;36mgrid_search_with_cross_validation\u001b[0;34m(x, y, model_func, param_grid, n_splits, verbose)\u001b[0m\n\u001b[1;32m    445\u001b[0m params[\u001b[38;5;124m\"\u001b[39m\u001b[38;5;124minitial_w\u001b[39m\u001b[38;5;124m\"\u001b[39m] \u001b[38;5;241m=\u001b[39m np\u001b[38;5;241m.\u001b[39mzeros(x_train\u001b[38;5;241m.\u001b[39mshape[\u001b[38;5;241m1\u001b[39m])\n\u001b[1;32m    447\u001b[0m \u001b[38;5;66;03m# Train model with the current set of parameters (only once per parameter combination)\u001b[39;00m\n\u001b[0;32m--> 448\u001b[0m w, losses, weights \u001b[38;5;241m=\u001b[39m model_func(y_train, x_train, \u001b[38;5;241m*\u001b[39m\u001b[38;5;241m*\u001b[39mparams)\n\u001b[1;32m    450\u001b[0m \u001b[38;5;66;03m# Evaluate on the test fold for each threshold without retraining\u001b[39;00m\n\u001b[1;32m    451\u001b[0m \u001b[38;5;28;01mfor\u001b[39;00m threshold \u001b[38;5;129;01min\u001b[39;00m threshold_values:\n",
      "File \u001b[0;32m~/Documents/Neuro-X/MA3/cs-433/ml-project-1-ml_fs/src/models.py:192\u001b[0m, in \u001b[0;36mreg_l2_logistic_regression\u001b[0;34m(y, tx, lambda_, initial_w, max_iters, gamma, class_weight)\u001b[0m\n\u001b[1;32m    189\u001b[0m weights \u001b[38;5;241m=\u001b[39m []\n\u001b[1;32m    191\u001b[0m \u001b[38;5;28;01mfor\u001b[39;00m n_iter \u001b[38;5;129;01min\u001b[39;00m \u001b[38;5;28mrange\u001b[39m(max_iters):\n\u001b[0;32m--> 192\u001b[0m     pred \u001b[38;5;241m=\u001b[39m \u001b[38;5;241m1\u001b[39m \u001b[38;5;241m/\u001b[39m (\u001b[38;5;241m1\u001b[39m \u001b[38;5;241m+\u001b[39m np\u001b[38;5;241m.\u001b[39mexp(\u001b[38;5;241m-\u001b[39mtx\u001b[38;5;241m.\u001b[39mdot(w)))  \u001b[38;5;66;03m# Sigmoid prediction\u001b[39;00m\n\u001b[1;32m    193\u001b[0m     error \u001b[38;5;241m=\u001b[39m pred \u001b[38;5;241m-\u001b[39m y\n\u001b[1;32m    195\u001b[0m     \u001b[38;5;66;03m# Adjust for class imbalance with class weight\u001b[39;00m\n",
      "\u001b[0;31mKeyboardInterrupt\u001b[0m: "
     ]
    }
   ],
   "source": [
    "# Model parameters\n",
    "# Grid search for hyperparameters\n",
    "gammas = [0.1, 0.01]\n",
    "thresholds = [0.2, 0.5, 0.7]\n",
    "max_iters = 500\n",
    "class_weights = [1, 4.5, 5, 5.5]\n",
    "lambdas = [0.1, 0.01]\n",
    "\n",
    "hyperparameters_ranges = {\n",
    "    \"gamma\": gammas,\n",
    "    \"threshold\": thresholds,\n",
    "    \"max_iters\": [max_iters],\n",
    "    \"class_weight\": class_weights,\n",
    "    \"lambda_\": lambdas,\n",
    "}\n",
    "\n",
    "# Grid search with cross validation\n",
    "best_params, best_avg_f1_score, best_avg_accuracy, best_weights = grid_search_with_cross_validation(\n",
    "    x_train, y_train, reg_l2_logistic_regression, hyperparameters_ranges, n_splits=3, verbose=True\n",
    ")\n"
   ]
  },
  {
   "cell_type": "code",
   "execution_count": null,
   "metadata": {},
   "outputs": [],
   "source": [
    "# Model parameters\n",
    "# Grid search for hyperparameters\n",
    "gammas = [0.1, 0.01]\n",
    "thresholds = [0.2, 0.5, 0.7]\n",
    "max_iters = 500\n",
    "class_weights = [1, 4.5, 5, 5.5]\n",
    "lambdas = [0.1, 0.01]\n",
    "\n",
    "hyperparameters_ranges = {\n",
    "    \"gamma\": gammas,\n",
    "    \"threshold\": thresholds,\n",
    "    \"max_iters\": [max_iters],\n",
    "    \"class_weight\": class_weights,\n",
    "    \"lambda_\": lambdas,\n",
    "}\n",
    "\n",
    "# Grid search with cross validation\n",
    "best_params, best_avg_f1_score, best_avg_accuracy, best_weights = grid_search_with_cross_validation(\n",
    "    x_train, y_train, reg_l1_logistic_regression, hyperparameters_ranges, n_splits=3, verbose=True\n",
    ")"
   ]
  },
  {
   "cell_type": "code",
   "execution_count": null,
   "metadata": {},
   "outputs": [],
   "source": []
  },
  {
   "cell_type": "code",
   "execution_count": null,
   "metadata": {},
   "outputs": [],
   "source": [
    "7"
   ]
  }
 ],
 "metadata": {
  "kernelspec": {
   "display_name": "ml_project1",
   "language": "python",
   "name": "python3"
  },
  "language_info": {
   "codemirror_mode": {
    "name": "ipython",
    "version": 3
   },
   "file_extension": ".py",
   "mimetype": "text/x-python",
   "name": "python",
   "nbconvert_exporter": "python",
   "pygments_lexer": "ipython3",
   "version": "3.12.5"
  }
 },
 "nbformat": 4,
 "nbformat_minor": 2
}

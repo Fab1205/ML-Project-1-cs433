{
 "cells": [
  {
   "cell_type": "code",
   "execution_count": null,
   "metadata": {},
   "outputs": [],
   "source": [
    "#{'gamma': 0.1, 'max_iters': 1500, 'lambda_': 0.001, 'class_weight': 1, 'threshold': 0.59}"
   ]
  },
  {
   "cell_type": "code",
   "execution_count": 31,
   "metadata": {},
   "outputs": [],
   "source": [
    "import numpy as np\n",
    "from cross_validation import *\n",
    "import sys\n",
    "import os\n",
    "import csv\n",
    "import matplotlib.pyplot as plt\n",
    "import helpers\n",
    "\n",
    "sys.path.append(os.path.abspath(\"src/\"))\n",
    "sys.path.append(os.path.abspath(\"data/raw/\"))\n",
    "\n",
    "#from tools import stratified_split\n",
    "from data_loading import (\n",
    "    load_data,\n",
    "    load_features_dict,\n",
    ")\n",
    "from data_processing import preprocess_features\n",
    "import models\n",
    "import utils\n",
    "from implementations import compute_loss_logistic,sigmoid\n"
   ]
  },
  {
   "cell_type": "code",
   "execution_count": 2,
   "metadata": {},
   "outputs": [],
   "source": [
    "###### PATHS ######\n",
    "data_path = \"data/\"\n",
    "json_path = \"data/feature_dict.json\""
   ]
  },
  {
   "cell_type": "code",
   "execution_count": 3,
   "metadata": {},
   "outputs": [
    {
     "name": "stdout",
     "output_type": "stream",
     "text": [
      "Loading raw data...\n",
      "Data loaded.\n",
      "Preprocessing data...\n",
      "Data preprocessed.\n"
     ]
    }
   ],
   "source": [
    "###### LOAD DATA ######\n",
    "x_train, x_test, y_train, train_ids, test_ids, feature_names, feature_dict = load_data(data_path)\n",
    "\n",
    "feature_dict_ = load_features_dict(json_path)\n",
    "\n",
    "x_train_processed, x_test_processed, feature_names_processed, feature_dict_processed = preprocess_features(\n",
    "    x_train,y_train, x_test, feature_names, feature_dict_)"
   ]
  },
  {
   "cell_type": "code",
   "execution_count": null,
   "metadata": {},
   "outputs": [],
   "source": [
    "def logistic_regression(\n",
    "    y: np.ndarray, tx: np.ndarray, initial_w: np.ndarray, max_iters: int, gamma: float, class_weight=1\n",
    "):\n",
    "    \"\"\"\n",
    "    Logistic regression using gradient descent.\n",
    "\n",
    "    Args:\n",
    "        y (np.array): labels\n",
    "        tx (np.array): features\n",
    "        initial_w (np.array): initial weights\n",
    "        max_iters (int): number of iterations\n",
    "        gamma (float): learning rate\n",
    "        class_weight (float): weight for the positive class (default: 1)\n",
    "\n",
    "    Returns:\n",
    "        w (np.array): final weights\n",
    "        losses (list): list of losses at each iteration\n",
    "        weights (list): list of weight updates at each iteration\n",
    "    \"\"\"\n",
    "    w = initial_w\n",
    "    losses = []\n",
    "    weights = []\n",
    "    for n_iter in range(max_iters):\n",
    "        if n_iter == int(max_iters/2):\n",
    "            print('la moitié est faite !')\n",
    "        pred = sigmoid(tx.dot(w))\n",
    "        error = pred - y\n",
    "\n",
    "        # Adjust for class imbalance with class weight\n",
    "        weighted_error = np.where(y == 1, class_weight * error, error)\n",
    "\n",
    "        gradient = tx.T.dot(weighted_error) / len(y)\n",
    "        w = w - gamma * gradient\n",
    "\n",
    "        loss = compute_loss_logistic(y, tx, w)\n",
    "        losses.append(loss)\n",
    "        weights.append(w.copy())\n",
    "\n",
    "    return w, losses, weights"
   ]
  },
  {
   "cell_type": "code",
   "execution_count": 33,
   "metadata": {},
   "outputs": [
    {
     "name": "stdout",
     "output_type": "stream",
     "text": [
      "ok\n",
      "0\n",
      "1\n",
      "2\n",
      "3\n",
      "4\n",
      "5\n",
      "6\n",
      "7\n",
      "8\n",
      "9\n",
      "10\n",
      "11\n",
      "12\n",
      "13\n",
      "14\n",
      "15\n",
      "16\n",
      "17\n",
      "18\n",
      "19\n",
      "20\n",
      "21\n",
      "22\n",
      "23\n",
      "24\n"
     ]
    },
    {
     "ename": "KeyboardInterrupt",
     "evalue": "",
     "output_type": "error",
     "traceback": [
      "\u001b[1;31m---------------------------------------------------------------------------\u001b[0m",
      "\u001b[1;31mKeyboardInterrupt\u001b[0m                         Traceback (most recent call last)",
      "Cell \u001b[1;32mIn[33], line 9\u001b[0m\n\u001b[0;32m      7\u001b[0m initial_w \u001b[38;5;241m=\u001b[39m np\u001b[38;5;241m.\u001b[39mzeros(x_train_processed\u001b[38;5;241m.\u001b[39mshape[\u001b[38;5;241m1\u001b[39m])\n\u001b[0;32m      8\u001b[0m \u001b[38;5;28mprint\u001b[39m(\u001b[38;5;124m'\u001b[39m\u001b[38;5;124mok\u001b[39m\u001b[38;5;124m'\u001b[39m)\n\u001b[1;32m----> 9\u001b[0m w, losses, weights \u001b[38;5;241m=\u001b[39m logistic_regression(y_train,x_train_processed,initial_w,\u001b[38;5;241m15000\u001b[39m,\u001b[38;5;241m1e-3\u001b[39m,class_weight \u001b[38;5;241m=\u001b[39m \u001b[38;5;241m5\u001b[39m)\n\u001b[0;32m     10\u001b[0m \u001b[38;5;28mprint\u001b[39m(\u001b[38;5;124m'\u001b[39m\u001b[38;5;124mok\u001b[39m\u001b[38;5;124m'\u001b[39m)\n\u001b[0;32m     11\u001b[0m y_test \u001b[38;5;241m=\u001b[39m predict_labels(w, x_test_processed, threshold\u001b[38;5;241m=\u001b[39m\u001b[38;5;241m0.5\u001b[39m)\n",
      "Cell \u001b[1;32mIn[32], line 25\u001b[0m, in \u001b[0;36mlogistic_regression\u001b[1;34m(y, tx, initial_w, max_iters, gamma, class_weight)\u001b[0m\n\u001b[0;32m     23\u001b[0m \u001b[38;5;28;01mfor\u001b[39;00m n_iter \u001b[38;5;129;01min\u001b[39;00m \u001b[38;5;28mrange\u001b[39m(max_iters):\n\u001b[0;32m     24\u001b[0m     \u001b[38;5;28mprint\u001b[39m(n_iter)\n\u001b[1;32m---> 25\u001b[0m     pred \u001b[38;5;241m=\u001b[39m sigmoid(tx\u001b[38;5;241m.\u001b[39mdot(w))\n\u001b[0;32m     26\u001b[0m     error \u001b[38;5;241m=\u001b[39m pred \u001b[38;5;241m-\u001b[39m y\n\u001b[0;32m     28\u001b[0m     \u001b[38;5;66;03m# Adjust for class imbalance with class weight\u001b[39;00m\n",
      "\u001b[1;31mKeyboardInterrupt\u001b[0m: "
     ]
    }
   ],
   "source": [
    "hyperparams = {\n",
    "    \"gamma\": 1e-3,\n",
    "    \"max_iters\": 150000,\n",
    "    \"class_weight\": 5,  # Testing with and without class weighting\n",
    "    \"threshold\": 0.5,  # Testing different thresholds\n",
    "}\n",
    "initial_w = np.zeros(x_train_processed.shape[1])\n",
    "print('ok')\n",
    "w, losses, weights = logistic_regression(y_train,x_train_processed,initial_w,15000,1e-3,class_weight = 5)\n",
    "print('ok')\n",
    "y_test = predict_labels(w, x_test_processed, threshold=0.5)\n",
    "\n",
    "create_csv_submission(test_ids, y_test, \"logistic_regression_6.csv\")"
   ]
  }
 ],
 "metadata": {
  "kernelspec": {
   "display_name": "ML_course1",
   "language": "python",
   "name": "python3"
  },
  "language_info": {
   "codemirror_mode": {
    "name": "ipython",
    "version": 3
   },
   "file_extension": ".py",
   "mimetype": "text/x-python",
   "name": "python",
   "nbconvert_exporter": "python",
   "pygments_lexer": "ipython3",
   "version": "3.11.9"
  }
 },
 "nbformat": 4,
 "nbformat_minor": 2
}
